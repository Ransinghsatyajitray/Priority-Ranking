{
 "cells": [
  {
   "cell_type": "code",
   "execution_count": 34,
   "metadata": {},
   "outputs": [],
   "source": [
    "import pandas as pd\n",
    "import numpy as np\n",
    "import seaborn as sns\n",
    "from sklearn import preprocessing\n",
    "from sklearn.preprocessing import MinMaxScaler\n",
    "from sklearn.preprocessing import minmax_scale\n",
    "from sklearn.preprocessing import MaxAbsScaler\n",
    "from sklearn.preprocessing import StandardScaler\n",
    "from sklearn.preprocessing import RobustScaler\n",
    "from sklearn.preprocessing import Normalizer\n",
    "from sklearn.preprocessing import QuantileTransformer\n",
    "from sklearn.preprocessing import PowerTransformer\n",
    "import math"
   ]
  },
  {
   "cell_type": "code",
   "execution_count": 35,
   "metadata": {},
   "outputs": [],
   "source": [
    "mu = 100000\n",
    "sigma =20000 \n",
    "dist1 = np.random.normal(mu, sigma, 1000)"
   ]
  },
  {
   "cell_type": "code",
   "execution_count": 36,
   "metadata": {},
   "outputs": [],
   "source": [
    "mu = 140000\n",
    "sigma =20000 \n",
    "dist2 = np.random.normal(mu, sigma, 1000)"
   ]
  },
  {
   "cell_type": "code",
   "execution_count": 37,
   "metadata": {},
   "outputs": [
    {
     "data": {
      "text/plain": [
       "<matplotlib.axes._subplots.AxesSubplot at 0x21848a3b948>"
      ]
     },
     "execution_count": 37,
     "metadata": {},
     "output_type": "execute_result"
    },
    {
     "data": {
      "image/png": "[encoded data removed]",
      "text/plain": [
       "<Figure size 432x288 with 1 Axes>"
      ]
     },
     "metadata": {
      "needs_background": "light"
     },
     "output_type": "display_data"
    }
   ],
   "source": [
    "sns.distplot(dist1)\n",
    "sns.distplot(dist2)"
   ]
  },
  {
   "cell_type": "code",
   "execution_count": 38,
   "metadata": {},
   "outputs": [],
   "source": [
    "dist1_s = dist1.reshape((-1,1))"
   ]
  },
  {
   "cell_type": "code",
   "execution_count": 39,
   "metadata": {},
   "outputs": [],
   "source": [
    "dist2_s = dist2.reshape((-1,1))"
   ]
  },
  {
   "cell_type": "code",
   "execution_count": 40,
   "metadata": {},
   "outputs": [],
   "source": [
    "df = pd.DataFrame(dist1)\n",
    "df['tireline'] = 'D1'\n",
    "df = df.sort_values(by  = [0])\n",
    "\n",
    "df2 = pd.DataFrame(dist2)\n",
    "df2['tireline'] = 'D2'\n",
    "df2 = df2.sort_values(by  = [0])\n",
    "\n",
    "df3 = pd.concat([df, df2], axis = 0)\n",
    "df3 = df3.sort_values(by = [0])\n",
    "dist3 = np.asarray(df3[0])\n",
    "dist3_s = dist3.reshape((-1,1))"
   ]
  },
  {
   "cell_type": "code",
   "execution_count": 41,
   "metadata": {},
   "outputs": [],
   "source": [
    "scaler = preprocessing.StandardScaler()\n",
    "scaler = preprocessing.MaxAbsScaler()\n",
    "\n",
    "train = dist3_s\n",
    "scaler = scaler.fit(train)"
   ]
  },
  {
   "cell_type": "code",
   "execution_count": 42,
   "metadata": {},
   "outputs": [],
   "source": [
    "df3['NORMED_VALS'] = list(scaler.fit_transform(dist3_s).flatten())\n",
    "df3['NORMED_VALS'] = df3['NORMED_VALS'] *10"
   ]
  },
  {
   "cell_type": "code",
   "execution_count": 43,
   "metadata": {},
   "outputs": [
    {
     "data": {
      "text/plain": [
       "tireline\n",
       "D1    5.133907\n",
       "D2    7.177499\n",
       "Name: NORMED_VALS, dtype: float64"
      ]
     },
     "execution_count": 43,
     "metadata": {},
     "output_type": "execute_result"
    }
   ],
   "source": [
    "# Performance of tireline on 1-10 scale\n",
    "df3.groupby(['tireline'])['NORMED_VALS'].mean()"
   ]
  },
  {
   "cell_type": "code",
   "execution_count": 44,
   "metadata": {},
   "outputs": [
    {
     "data": {
      "text/plain": [
       "tireline\n",
       "D1    0.064306\n",
       "D2    0.063222\n",
       "dtype: float64"
      ]
     },
     "execution_count": 44,
     "metadata": {},
     "output_type": "execute_result"
    }
   ],
   "source": [
    "#confidence interval\n",
    "std = df3.groupby(['tireline'])['NORMED_VALS'].std()\n",
    "count = df3.groupby(['tireline'])['NORMED_VALS'].count()\n",
    "std2 = std.div(np.asarray([math.sqrt(x) for x in  np.asarray(np.round(count/4))]))\n",
    "std2"
   ]
  },
  {
   "cell_type": "code",
   "execution_count": null,
   "metadata": {},
   "outputs": [],
   "source": []
  },
  {
   "cell_type": "code",
   "execution_count": null,
   "metadata": {},
   "outputs": [],
   "source": []
  },
  {
   "cell_type": "code",
   "execution_count": null,
   "metadata": {},
   "outputs": [],
   "source": []
  },
  {
   "cell_type": "code",
   "execution_count": null,
   "metadata": {},
   "outputs": [],
   "source": [
    "# scaler = preprocessing.StandardScaler()\n",
    "# scaler = preprocessing.MaxAbsScaler()\n",
    "# # scaler = preprocessing.RobustScaler()\n",
    "# # scaler = preprocessing.Normalizer()\n",
    "# # scaler = preprocessing.quantile_transform(dist2_s)\n",
    "# # scaler = preprocessing.maxabs_scale()\n",
    "\n",
    "\n",
    "# train = dist2_s\n",
    "# scaler = scaler.fit(train)\n",
    "\n",
    "# test = dist1_s\n",
    "# print('DIST1: ',scaler.fit_transform(test).flatten().min(), scaler.fit_transform(test).flatten().max())\n",
    "# test = dist2_s\n",
    "# print('DIST2: ',scaler.fit_transform(test).flatten().min(), scaler.fit_transform(test).flatten().max())"
   ]
  }
 ],
 "metadata": {
  "kernelspec": {
   "display_name": "Python 3",
   "language": "python",
   "name": "python3"
  },
  "language_info": {
   "codemirror_mode": {
    "name": "ipython",
    "version": 3
   },
   "file_extension": ".py",
   "mimetype": "text/x-python",
   "name": "python",
   "nbconvert_exporter": "python",
   "pygments_lexer": "ipython3",
   "version": "3.7.6"
  }
 },
 "nbformat": 4,
 "nbformat_minor": 4
}
